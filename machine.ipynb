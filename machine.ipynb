https://mybinder.org/v2/gh/gamechanging/codeblack/blob/master/machine.ipynb/ML?filepath=codeblack%2Fmachine.ipynb
